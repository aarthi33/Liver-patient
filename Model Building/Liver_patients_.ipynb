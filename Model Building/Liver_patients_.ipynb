{
  "nbformat": 4,
  "nbformat_minor": 0,
  "metadata": {
    "colab": {
      "provenance": []
    },
    "kernelspec": {
      "name": "python3",
      "display_name": "Python 3"
    },
    "language_info": {
      "name": "python"
    }
  },
  "cells": [
    {
      "cell_type": "code",
      "execution_count": null,
      "metadata": {
        "colab": {
          "base_uri": "https://localhost:8080/"
        },
        "id": "Jau6WEJOGfvG",
        "outputId": "5b93fcbe-159a-4ebc-9ec9-ed7293fa49b4"
      },
      "outputs": [
        {
          "output_type": "stream",
          "name": "stdout",
          "text": [
            "Mounted at /content/drive\n",
            "<class 'pandas.core.frame.DataFrame'>\n",
            "RangeIndex: 583 entries, 0 to 582\n",
            "Data columns (total 11 columns):\n",
            " #   Column                      Non-Null Count  Dtype  \n",
            "---  ------                      --------------  -----  \n",
            " 0   Age                         583 non-null    int64  \n",
            " 1   Gender                      583 non-null    object \n",
            " 2   Total_Bilirubin             583 non-null    float64\n",
            " 3   Direct_Bilirubin            583 non-null    float64\n",
            " 4   Alkaline_Phosphotase        583 non-null    int64  \n",
            " 5   Alamine_Aminotransferase    583 non-null    int64  \n",
            " 6   Aspartate_Aminotransferase  583 non-null    int64  \n",
            " 7   Total_Protiens              583 non-null    float64\n",
            " 8   Albumin                     583 non-null    float64\n",
            " 9   Albumin_and_Globulin_Ratio  579 non-null    float64\n",
            " 10  Dataset                     583 non-null    int64  \n",
            "dtypes: float64(5), int64(5), object(1)\n",
            "memory usage: 50.2+ KB\n"
          ]
        }
      ],
      "source": [
        "import pandas as pd \n",
        "import numpy as np\n",
        "import seaborn as sns\n",
        "import matplotlib.pyplot as plt\n",
        "from matplotlib import rcParams\n",
        "from scipy import stats\n",
        "\n",
        "from google.colab import drive\n",
        "drive.mount('/content/drive')\n",
        "\n",
        "with open('/content/drive/My Drive/Colab Notebooks/indian_liver_patient.csv', 'r') as dataset:\n",
        "  data = pd.read_csv(dataset)\n",
        "\n",
        "data.head()\n",
        "data.info()\n",
        "data.isnull().any()\n",
        "data.isnull().sum()\n",
        " \n",
        "#data['Albumin_and_Globulin_Rati'o]= data.fillna(data['Albumin_and_Globulin_Ratio'].mode()[0])\n",
        "data.isnull().sum()\n",
        "\n",
        "from sklearn.preprocessing import LabelEncoder\n",
        "lc=LabelEncoder()\n",
        "#data['gender']=lc.fit_transform(data['gender'])\n",
        "\n",
        "\n",
        " "
      ]
    },
    {
      "cell_type": "code",
      "source": [
        "data.describe()\n",
        "sns.distplot(data['age'])\n",
        "plt.title('Age Distribution Graph')\n",
        "plt.show()\n",
        "sns.countplot(data['outcome'], hue=data['gender'])\n",
        "plt.figure(figsize=(10,7))\n",
        "sns.heatmap(df.corr(),annot=True)\n",
        "from sklearn.preprocessing import scale\n",
        "X_scaled=pd.DataFrame(scale(X),columns= x.columns)\n",
        "X_scaled.head()\n",
        "X=data.iloc[:,-1]\n",
        "y=data.outcome\n",
        "from sklearn.model_selection import train_test_split\n",
        "x_train,x_test,y_train,y_test=train_test_split\n",
        "x_train,x_test,y_train,y_test=train_test_split(x_scaled,y,test_size=0.2,random_state=42)\n",
        "pip install imblearn\n",
        "from imblearn.over_sampling import SMOTE\n",
        "smote= SMOTE()\n",
        "y_train.value_counts()\n",
        "x_train.smote,y_train_smote =smote.fit_resmple(X_train,y_train)\n",
        "y_train_smote.value_counts()\n",
        "\n"
      ],
      "metadata": {
        "id": "2DMJ8nuSZT2V",
        "colab": {
          "base_uri": "https://localhost:8080/",
          "height": 130
        },
        "outputId": "7c3c980c-4216-4411-ff0d-7a5ac45cfc3f"
      },
      "execution_count": null,
      "outputs": [
        {
          "output_type": "error",
          "ename": "SyntaxError",
          "evalue": "ignored",
          "traceback": [
            "\u001b[0;36m  File \u001b[0;32m\"<ipython-input-5-627ccefc18fd>\"\u001b[0;36m, line \u001b[0;32m16\u001b[0m\n\u001b[0;31m    pip install imblearn\u001b[0m\n\u001b[0m        ^\u001b[0m\n\u001b[0;31mSyntaxError\u001b[0m\u001b[0;31m:\u001b[0m invalid syntax\n"
          ]
        }
      ]
    },
    {
      "cell_type": "code",
      "source": [
        "from sklearn.ensemble import RandomForestClassifier\n",
        "model1=RandomForestClassifier()\n",
        "model1.fit(x_train_smote,y_train_smote)\n",
        "y_predict=model1.predict(X_test)\n",
        "rfc1=accuracy_score(y_test,y_predict)\n",
        "rfc1\n",
        "pd.crosstab(y_test,y_predict)\n",
        "print(classification_report(y_test,y_predict))\n",
        "from sklearn.tree import DecisionTreeClassifier\n",
        "model4=DecisionTreeClassifier()\n",
        "model4.fit(X_train_smote,y_train_smote)\n",
        "y_predict=model4.predict(X_test)\n",
        "dtc1=accuracy_score(y_test,y_predict)\n",
        "dtc1\n",
        "pd.crosstab(y_test,y_predict)\n",
        "print(classification_report(y_test,y_predict))\n",
        "model2=KNeighborsClassifier()\n",
        "model2=.fit(X-train-smote,Y-train-smote)\n",
        "y-predict=models5.predict(x-test)\n",
        "logil=accuracy-score(y-test,y-predict)\n",
        "logil\n",
        "pd.crosstab(y-test,y-predict)\n",
        "print(classificatoin-report(y-test,y-predict))\n",
        "import tensorflow.keras\n",
        "from tensorflow.keras.models import sequential\n",
        "from tensorflow.keras.layers import Dense\n",
        "# initialising the ANN\n",
        "Classifier=sequential()\n",
        "# Adding the input Layer and the first hidden layer\n",
        "classifier.add(Dense(units=100,activation='relu'),input_dim=10))\n",
        "# Adding the second hidden Layer\n",
        "classifier.add(Dense(units=50,activation='relu'))\n",
        "# Adding the output Layer\n",
        "classifier.add(Dense(units=1,activation='sigmoid'))\n",
        "# compiling the ANN \n",
        "classifier.compile(optimizer='adam',loss='binnary_crossentropy',metrics=['accuracy'])\n",
        "# Fitting the ANN to the Training set\n",
        "model_history=classifier.fit(X_train,Y_train,batch_size=100,validation_split=0.2, epochs=100)\n",
        "model14.predict([[50,1,1.2,0.8,150,70,80,7.2,3.4,0.8]])\n",
        "array([1],dtype=int64)\n",
        "model11.predict([[50,1,1.2,0.8,150,70,80,7.2,3.4,0.8]])\n",
        "classifier.save(\"liver.h5\")\n",
        "y_pred=classifier.predict(x_test)\n",
        "y_pred\n",
        "def predict_exit(sample_value):\n",
        "  sample_value=np.array(samble_value)\n",
        "  sample_value=sample_value.reshape(1,-1)\n",
        "  sample_value=scale(sample_value)  \n",
        "  return classifier.predict(sample_value)\n",
        "  sample_value=[[50,1,1.2,0.8,150,70,80,7.2,3.4,0.8]]\n",
        "  if predict_exit(sample_value)>0.5:\n",
        "    print('prediction:Liver patient')\n",
        "  else:\n",
        "    print('prediction:Healthy') \n",
        "            \n"
      ],
      "metadata": {
        "id": "9Daor00bxefL",
        "colab": {
          "base_uri": "https://localhost:8080/",
          "height": 130
        },
        "outputId": "7c851adb-7717-47bb-f38a-b774a86d9deb"
      },
      "execution_count": null,
      "outputs": [
        {
          "output_type": "error",
          "ename": "SyntaxError",
          "evalue": "ignored",
          "traceback": [
            "\u001b[0;36m  File \u001b[0;32m\"<ipython-input-8-46e8c5559844>\"\u001b[0;36m, line \u001b[0;32m18\u001b[0m\n\u001b[0;31m    model2=.fit(X-train-smote,Y-train-smote)\u001b[0m\n\u001b[0m           ^\u001b[0m\n\u001b[0;31mSyntaxError\u001b[0m\u001b[0;31m:\u001b[0m invalid syntax\n"
          ]
        }
      ]
    },
    {
      "cell_type": "code",
      "source": [
        "\n",
        "acc_smote=[['KNN classifier',],['RandomForestClassifier',rfc],['DecisionTreeClassifier',dtc1],['LogisticRegression',logi1]]\n",
        "Liverpatient_pred=pd.DataFrame(acc_smote,column=['classification models','accuracy_score'])\n",
        "Liverpatient_pred\n",
        "plt.figure(figsize=(7,5))\n",
        "plt.xticks(rotation=90)\n",
        "plt.title('Classification models & accuracy scores after SMOTE',fontsize=18)\n",
        "sns.barplot(x=\"classification models\",y=\"accuracy_score\",data=Liverpatient_pred,palette=\"set2\")\n",
        "from sklearn.ensemble import ExtraTressClassifier\n",
        "#model=ExtraTreeClassifier()\n",
        "model.fit(x,y)\n",
        "model.features_importances_\n",
        "dd=pd.DataFrame(model.feature_importances_,index=X.columns).sort_values(0,ascending=False)\n",
        "dd\n",
        "dd.plot(kind='barh',figsize=(7,6))\n",
        "plt.title(\"FEATURE IMPORTANTANCE\",fontsize=14)"
      ],
      "metadata": {
        "id": "_tDPnFX4xcxi",
        "colab": {
          "base_uri": "https://localhost:8080/",
          "height": 235
        },
        "outputId": "3a829264-a172-4b8d-8a93-39417a4ee7b1"
      },
      "execution_count": null,
      "outputs": [
        {
          "output_type": "error",
          "ename": "NameError",
          "evalue": "ignored",
          "traceback": [
            "\u001b[0;31m---------------------------------------------------------------------------\u001b[0m",
            "\u001b[0;31mNameError\u001b[0m                                 Traceback (most recent call last)",
            "\u001b[0;32m<ipython-input-19-b80ef99a9874>\u001b[0m in \u001b[0;36m<cell line: 1>\u001b[0;34m()\u001b[0m\n\u001b[0;32m----> 1\u001b[0;31m \u001b[0macc_smote\u001b[0m\u001b[0;34m=\u001b[0m\u001b[0;34m[\u001b[0m\u001b[0;34m[\u001b[0m\u001b[0;34m'KNN classifier'\u001b[0m\u001b[0;34m,\u001b[0m\u001b[0;34m]\u001b[0m\u001b[0;34m,\u001b[0m\u001b[0;34m[\u001b[0m\u001b[0;34m'RandomForestClassifier'\u001b[0m\u001b[0;34m,\u001b[0m\u001b[0mrfc\u001b[0m\u001b[0;34m]\u001b[0m\u001b[0;34m,\u001b[0m\u001b[0;34m[\u001b[0m\u001b[0;34m'DecisionTreeClassifier'\u001b[0m\u001b[0;34m,\u001b[0m\u001b[0mdtc1\u001b[0m\u001b[0;34m]\u001b[0m\u001b[0;34m,\u001b[0m\u001b[0;34m[\u001b[0m\u001b[0;34m'LogisticRegression'\u001b[0m\u001b[0;34m,\u001b[0m\u001b[0mlogi1\u001b[0m\u001b[0;34m]\u001b[0m\u001b[0;34m]\u001b[0m\u001b[0;34m\u001b[0m\u001b[0;34m\u001b[0m\u001b[0m\n\u001b[0m\u001b[1;32m      2\u001b[0m \u001b[0mLiverpatient_pred\u001b[0m\u001b[0;34m=\u001b[0m\u001b[0mpd\u001b[0m\u001b[0;34m.\u001b[0m\u001b[0mDataFrame\u001b[0m\u001b[0;34m(\u001b[0m\u001b[0macc_smote\u001b[0m\u001b[0;34m,\u001b[0m\u001b[0mcolumn\u001b[0m\u001b[0;34m=\u001b[0m\u001b[0;34m[\u001b[0m\u001b[0;34m'classification models'\u001b[0m\u001b[0;34m,\u001b[0m\u001b[0;34m'accuracy_score'\u001b[0m\u001b[0;34m]\u001b[0m\u001b[0;34m)\u001b[0m\u001b[0;34m\u001b[0m\u001b[0;34m\u001b[0m\u001b[0m\n\u001b[1;32m      3\u001b[0m \u001b[0mLiverpatient_pred\u001b[0m\u001b[0;34m\u001b[0m\u001b[0;34m\u001b[0m\u001b[0m\n\u001b[1;32m      4\u001b[0m \u001b[0mplt\u001b[0m\u001b[0;34m.\u001b[0m\u001b[0mfigure\u001b[0m\u001b[0;34m(\u001b[0m\u001b[0mfigsize\u001b[0m\u001b[0;34m=\u001b[0m\u001b[0;34m(\u001b[0m\u001b[0;36m7\u001b[0m\u001b[0;34m,\u001b[0m\u001b[0;36m5\u001b[0m\u001b[0;34m)\u001b[0m\u001b[0;34m)\u001b[0m\u001b[0;34m\u001b[0m\u001b[0;34m\u001b[0m\u001b[0m\n\u001b[1;32m      5\u001b[0m \u001b[0mplt\u001b[0m\u001b[0;34m.\u001b[0m\u001b[0mxticks\u001b[0m\u001b[0;34m(\u001b[0m\u001b[0mrotation\u001b[0m\u001b[0;34m=\u001b[0m\u001b[0;36m90\u001b[0m\u001b[0;34m)\u001b[0m\u001b[0;34m\u001b[0m\u001b[0;34m\u001b[0m\u001b[0m\n",
            "\u001b[0;31mNameError\u001b[0m: name 'rfc' is not defined"
          ]
        }
      ]
    }
  ]
}